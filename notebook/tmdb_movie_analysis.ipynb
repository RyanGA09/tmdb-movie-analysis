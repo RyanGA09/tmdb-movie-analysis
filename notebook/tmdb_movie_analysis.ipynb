{
 "cells": [
  {
   "cell_type": "markdown",
   "id": "e09e2481",
   "metadata": {},
   "source": [
    "# 🎬 Movie Analysis – TMDb Movies"
   ]
  },
  {
   "cell_type": "markdown",
   "id": "c035c188",
   "metadata": {},
   "source": [
    "## 📄 Issue Info / Briefing:\n",
    "A film studio wants to know the factors that influence a film's financial success. They want to optimise their production strategy based on genre, budget, cast popularity, and other metrics that can impact a film's profitability.\n"
   ]
  },
  {
   "cell_type": "markdown",
   "id": "b6ac2147",
   "metadata": {},
   "source": [
    "## 🧠 1. Business Understanding\n",
    "**Objective:** Determine the film production strategy based on financial success analysis, including the influence of key cast and crew.\n",
    "\n",
    "**Key Questions:**\n",
    "- Does budget affect a film's success?\n",
    "- What genres are the most profitable?\n",
    "- What is the relationship between ratings and profit?\n",
    "- Do popular actors or directors impact profitability?"
   ]
  },
  {
   "cell_type": "markdown",
   "id": "86f0a4b8",
   "metadata": {},
   "source": [
    "---"
   ]
  },
  {
   "cell_type": "markdown",
   "id": "7d2252b2",
   "metadata": {},
   "source": [
    "## Import Library"
   ]
  },
  {
   "cell_type": "code",
   "execution_count": null,
   "id": "3a3604e0",
   "metadata": {},
   "outputs": [],
   "source": [
    "import os\n",
    "import pandas as pd\n",
    "import numpy as np\n",
    "import matplotlib.pyplot as plt\n",
    "import seaborn as sns\n",
    "\n",
    "from sklearn.linear_model import LinearRegression\n",
    "from sklearn.cluster import KMeans\n",
    "from sklearn.model_selection import train_test_split\n",
    "from sklearn.metrics import r2_score, mean_absolute_error, mean_squared_error\n",
    "\n",
    "import json\n",
    "from kaggle.api.kaggle_api_extended import KaggleApi"
   ]
  },
  {
   "cell_type": "markdown",
   "id": "1e486a6a",
   "metadata": {},
   "source": [
    "## Download datasets from Kaggle"
   ]
  },
  {
   "cell_type": "code",
   "execution_count": null,
   "id": "1dba8a64",
   "metadata": {},
   "outputs": [],
   "source": [
    "def download_dataset(kaggle_json_path, download_path=\"../data/raw\"):\n",
    "    os.environ['KAGGLE_CONFIG_DIR'] = os.path.dirname(kaggle_json_path)\n",
    "    api = KaggleApi()\n",
    "    api.authenticate()\n",
    "    api.dataset_download_files(\"tmdb/tmdb-movie-metadata\", path=download_path, unzip=True)\n",
    "    print(\"✅ Dataset downloaded and extracted to\", download_path)"
   ]
  },
  {
   "cell_type": "code",
   "execution_count": null,
   "id": "bd5ab13c",
   "metadata": {},
   "outputs": [],
   "source": [
    "kaggle_json_path = \"../kaggle.json\"  # Adjust path if needed\n",
    "if not os.path.exists(\"../data/raw\"):  # simple check if already extracted\n",
    "    download_dataset(kaggle_json_path)"
   ]
  },
  {
   "cell_type": "markdown",
   "id": "37cbb52c",
   "metadata": {},
   "source": [
    "## 2. Data Acquisition"
   ]
  },
  {
   "cell_type": "code",
   "execution_count": null,
   "id": "71f9f3ef",
   "metadata": {},
   "outputs": [],
   "source": [
    "movies_df = pd.read_csv('../data/raw/tmdb_5000_movies.csv')\n",
    "credits_df = pd.read_csv('../data/raw/tmdb_5000_credits.csv')"
   ]
  },
  {
   "cell_type": "markdown",
   "id": "7b6d1dda",
   "metadata": {},
   "source": [
    "## 3. Data Assessing / Understanding"
   ]
  },
  {
   "cell_type": "code",
   "execution_count": null,
   "id": "3a536460",
   "metadata": {},
   "outputs": [],
   "source": [
    "print(\"Initial Data Overview:\")\n",
    "print(movies_df[['budget', 'revenue', 'genres', 'vote_average', 'release_date']].head())\n",
    "print(credits_df[['movie_id', 'title', 'cast', 'crew']].head())"
   ]
  },
  {
   "cell_type": "markdown",
   "id": "d93e1cfe",
   "metadata": {},
   "source": [
    "## 4. Data Wrangling"
   ]
  },
  {
   "cell_type": "markdown",
   "id": "4bff3c38",
   "metadata": {},
   "source": [
    "### 4.1 Merge movies_df and credits_df"
   ]
  },
  {
   "cell_type": "code",
   "execution_count": null,
   "id": "4b4a36f1",
   "metadata": {},
   "outputs": [],
   "source": [
    "movies_df = movies_df.merge(credits_df, on='title')"
   ]
  },
  {
   "cell_type": "markdown",
   "id": "a431a6ff",
   "metadata": {},
   "source": [
    "### 4.2 Filter valid data and calculate profit"
   ]
  },
  {
   "cell_type": "code",
   "execution_count": null,
   "id": "ae419693",
   "metadata": {},
   "outputs": [],
   "source": [
    "movies_df = movies_df[(movies_df['budget'] > 0) & (movies_df['revenue'] > 0)]\n",
    "movies_df['profit'] = movies_df['revenue'] - movies_df['budget']"
   ]
  },
  {
   "cell_type": "markdown",
   "id": "099d46f0",
   "metadata": {},
   "source": [
    "### 4.3 Convert the date and take the year of release"
   ]
  },
  {
   "cell_type": "code",
   "execution_count": null,
   "id": "efe4e66d",
   "metadata": {},
   "outputs": [],
   "source": [
    "movies_df['release_date'] = pd.to_datetime(movies_df['release_date'], errors='coerce')\n",
    "movies_df['release_year'] = movies_df['release_date'].dt.year"
   ]
  },
  {
   "cell_type": "markdown",
   "id": "fe5162af",
   "metadata": {},
   "source": [
    "### 4.4 Extraction of main genres"
   ]
  },
  {
   "cell_type": "code",
   "execution_count": null,
   "id": "3af09d80",
   "metadata": {},
   "outputs": [],
   "source": [
    "def extract_main_genre(genre_str):\n",
    "    try:\n",
    "        genres = json.loads(genre_str.replace(\"'\", '\"'))\n",
    "        if genres:\n",
    "            return genres[0]['name']\n",
    "    except:\n",
    "        return None\n",
    "\n",
    "movies_df['main_genre'] = movies_df['genres'].apply(extract_main_genre)"
   ]
  },
  {
   "cell_type": "markdown",
   "id": "5294d4ce",
   "metadata": {},
   "source": [
    "### 4.5 Extract information from credits_df: Director and Actor"
   ]
  },
  {
   "cell_type": "code",
   "execution_count": null,
   "id": "e20b560b",
   "metadata": {},
   "outputs": [],
   "source": [
    "def extract_director(crew_str):\n",
    "    try:\n",
    "        crew = json.loads(crew_str.replace(\"'\", '\"'))\n",
    "        for person in crew:\n",
    "            if person['job'] == 'Director':\n",
    "                return person['name']\n",
    "    except:\n",
    "        return None\n",
    "\n",
    "movies_df['director'] = movies_df['crew'].apply(extract_director)"
   ]
  },
  {
   "cell_type": "code",
   "execution_count": null,
   "id": "f8800c8d",
   "metadata": {},
   "outputs": [],
   "source": [
    "def extract_main_actor(cast_str):\n",
    "    try:\n",
    "        cast = json.loads(cast_str.replace(\"'\", '\"'))\n",
    "        if cast:\n",
    "            return cast[0]['name']\n",
    "    except:\n",
    "        return None\n",
    "\n",
    "movies_df['main_actor'] = movies_df['cast'].apply(extract_main_actor)"
   ]
  },
  {
   "cell_type": "markdown",
   "id": "105f0c39",
   "metadata": {},
   "source": [
    "### 4.6 Drop missing values"
   ]
  },
  {
   "cell_type": "code",
   "execution_count": null,
   "id": "72c8ce43",
   "metadata": {},
   "outputs": [],
   "source": [
    "movies_df = movies_df.dropna(subset=['release_year', 'main_genre', 'director', 'main_actor'])"
   ]
  },
  {
   "cell_type": "markdown",
   "id": "7d4fbc4e",
   "metadata": {},
   "source": [
    "## 5. Exploratory Data Analysis (EDA)"
   ]
  },
  {
   "cell_type": "code",
   "execution_count": null,
   "id": "297d6148",
   "metadata": {},
   "outputs": [],
   "source": [
    "if not os.path.exists(\"../visualizations\"):\n",
    "    os.makedirs(\"../visualizations\")"
   ]
  },
  {
   "cell_type": "code",
   "execution_count": null,
   "id": "585eb463",
   "metadata": {},
   "outputs": [],
   "source": [
    "# Profit per genre\n",
    "plt.figure(figsize=(10,6))\n",
    "sns.barplot(data=movies_df.groupby('main_genre')['profit'].mean().sort_values(ascending=False).reset_index(), x='main_genre', y='profit')\n",
    "plt.xticks(rotation=45)\n",
    "plt.title('Average Profit by Main Genre')\n",
    "plt.tight_layout()\n",
    "plt.savefig('../visualizations/eda_genre_profit.png')\n",
    "plt.show()"
   ]
  },
  {
   "cell_type": "code",
   "execution_count": null,
   "id": "cc0b8927",
   "metadata": {},
   "outputs": [],
   "source": [
    "# Budget vs Revenue\n",
    "plt.figure(figsize=(10,6))\n",
    "sns.scatterplot(data=movies_df, x='budget', y='revenue', hue='main_genre', alpha=0.6)\n",
    "plt.title('Budget vs Revenue')\n",
    "plt.tight_layout()\n",
    "plt.savefig('../visualizations/eda_budget_revenue.png')\n",
    "plt.show()"
   ]
  },
  {
   "cell_type": "code",
   "execution_count": null,
   "id": "2455a085",
   "metadata": {},
   "outputs": [],
   "source": [
    "top_directors = movies_df.groupby('director')['profit'].sum().sort_values(ascending=False).head(10)\n",
    "plt.figure(figsize=(10,6))\n",
    "top_directors.plot(kind='bar', color='skyblue')\n",
    "plt.title('Top 10 Directors by Total Profit')\n",
    "plt.ylabel('Total Profit')\n",
    "plt.xticks(rotation=45)\n",
    "plt.tight_layout()\n",
    "plt.savefig('../visualizations/eda_top_directors.png')"
   ]
  },
  {
   "cell_type": "code",
   "execution_count": null,
   "id": "0b815d85",
   "metadata": {},
   "outputs": [],
   "source": [
    "director_profit_score = movies_df.groupby('director')['profit'].mean().to_dict()\n",
    "movies_df['director_score'] = movies_df['director'].map(director_profit_score)"
   ]
  },
  {
   "cell_type": "code",
   "execution_count": null,
   "id": "71a0b8a2",
   "metadata": {},
   "outputs": [],
   "source": [
    "top_actors = movies_df.groupby('main_actor')['profit'].sum().sort_values(ascending=False).head(10)\n",
    "plt.figure(figsize=(10,6))\n",
    "top_actors.plot(kind='bar', color='salmon')\n",
    "plt.title('Top 10 Actors by Total Profit')\n",
    "plt.ylabel('Total Profit')\n",
    "plt.xticks(rotation=45)\n",
    "plt.tight_layout()\n",
    "plt.savefig('../visualizations/eda_top_actors.png')"
   ]
  },
  {
   "cell_type": "code",
   "execution_count": null,
   "id": "f0f53766",
   "metadata": {},
   "outputs": [],
   "source": [
    "actor_profit_score = movies_df.groupby('main_actor')['profit'].mean().to_dict()\n",
    "movies_df['actor_score'] = movies_df['main_actor'].map(actor_profit_score)"
   ]
  },
  {
   "cell_type": "markdown",
   "id": "5286498b",
   "metadata": {},
   "source": [
    "## 6. Modeling: Predict revenue from budget, vote_average, vote_count, runtime"
   ]
  },
  {
   "cell_type": "code",
   "execution_count": null,
   "id": "5810b98b",
   "metadata": {},
   "outputs": [],
   "source": [
    "features = ['budget', 'vote_average', 'vote_count', 'runtime', 'director_score', 'actor_score']\n",
    "data_model = movies_df.dropna(subset=features + ['revenue'])\n",
    "X = data_model[features]\n",
    "y = data_model['revenue']\n",
    "\n",
    "# Split data\n",
    "X_train, X_test, y_train, y_test = train_test_split(X, y, test_size=0.2, random_state=42)\n",
    "\n",
    "# Train model\n",
    "lr_model = LinearRegression()\n",
    "lr_model.fit(X_train, y_train)\n",
    "\n",
    "# Evaluate model\n",
    "y_pred = lr_model.predict(X_test)\n",
    "mse = mean_squared_error(y_test, y_pred)\n",
    "rmse = np.sqrt(mse)\n",
    "mae = mean_absolute_error(y_test, y_pred)\n",
    "r2 = r2_score(y_test, y_pred)\n",
    "\n",
    "print(f\"R²   : {r2:.4f}\")\n",
    "print(f\"MSE  : {mse:,.2f}\")\n",
    "print(f\"RMSE : {rmse:,.2f}\")\n",
    "print(f\"MAE  : {mae:,.2f}\")\n",
    "\n",
    "# Save modeling results\n",
    "data_model['predicted_revenue'] = lr_model.predict(X)"
   ]
  },
  {
   "cell_type": "markdown",
   "id": "fddaaf65",
   "metadata": {},
   "source": [
    "## 7. Clustering"
   ]
  },
  {
   "cell_type": "code",
   "execution_count": null,
   "id": "61b447d7",
   "metadata": {},
   "outputs": [],
   "source": [
    "cluster_data = data_model[['vote_average', 'profit', 'budget']]\n",
    "kmeans = KMeans(n_clusters=4, random_state=42)\n",
    "data_model['cluster_label'] = kmeans.fit_predict(cluster_data)"
   ]
  },
  {
   "cell_type": "code",
   "execution_count": null,
   "id": "75df9db5",
   "metadata": {},
   "outputs": [],
   "source": [
    "output_path = \"../data/processed\"\n",
    "os.makedirs(output_path, exist_ok=True)\n",
    "\n",
    "data_model.to_csv(f\"{output_path}/movie_modeling_with_credit.csv\", index=False)\n",
    "movies_df.to_csv(f\"{output_path}/cleaned_movie_data.csv\", index=False)\n",
    "\n",
    "with pd.ExcelWriter(f\"{output_path}/movie_dashboard_data.xlsx\") as writer:\n",
    "    movies_df.to_excel(writer, sheet_name='CleanedData', index=False)\n",
    "    data_model.to_excel(writer, sheet_name='ModelingOutput', index=False)\n",
    "\n",
    "print(\"✅ All files saved successfully.\")"
   ]
  }
 ],
 "metadata": {
  "kernelspec": {
   "display_name": "Python 3",
   "language": "python",
   "name": "python3"
  },
  "language_info": {
   "codemirror_mode": {
    "name": "ipython",
    "version": 3
   },
   "file_extension": ".py",
   "mimetype": "text/x-python",
   "name": "python",
   "nbconvert_exporter": "python",
   "pygments_lexer": "ipython3",
   "version": "3.11.5"
  }
 },
 "nbformat": 4,
 "nbformat_minor": 5
}
